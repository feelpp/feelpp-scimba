{
 "cells": [
  {
   "cell_type": "markdown",
   "metadata": {},
   "source": [
    "### Setting the feelpp environment\n"
   ]
  },
  {
   "cell_type": "code",
   "execution_count": null,
   "id": "2dabdacb-a6be-4125-8c6e-a125bf15dfa8",
   "metadata": {},
   "outputs": [],
   "source": [
    "import sys\n",
    "import feelpp.core as fppc\n",
    "import feelpp.toolboxes.core as tb\n",
    "from feelpp_scimba.Poisson import Poisson, runLaplacianPk, runConvergenceAnalysis, plot_convergence, custom_cmap\n",
    "\n",
    "sys.argv = [\"feelpp_app\"]\n",
    "e = fppc.Environment(sys.argv,\n",
    "                       opts=tb.toolboxes_options(\"coefficient-form-pdes\", \"cfpdes\"),\n",
    "                       config=fppc.localRepository('feelpp_cfpde'))\n",
    "\n",
    "# ------------------------------------------------------------------------- #\n",
    "# Poisson problem\n",
    "# - div (diff * grad (u)) = f    in Omega\n",
    "#                     u   = g    in Gamma_D\n",
    "# Omega = domain, either cube or ball\n",
    "# Approx = lagrange Pk of order order\n",
    "# mesh of size h\n",
    "\n",
    "P = Poisson(dim = 2)\n",
    "\n"
   ]
  },
  {
   "cell_type": "markdown",
   "metadata": {},
   "source": [
    "### Examples with different parameters"
   ]
  },
  {
   "cell_type": "code",
   "execution_count": null,
   "metadata": {},
   "outputs": [],
   "source": [
    "\n",
    "# for square domain\n",
    "\n",
    "u_exact = 'sin(2*pi*x) * sin(2*pi*y)'\n",
    "rhs = '8*pi*pi*sin(2*pi*x) * sin(2*pi*y)'\n",
    "\n",
    "P(rhs=rhs, g='0', solver ='scimba', u_exact = u_exact)\n"
   ]
  },
  {
   "cell_type": "code",
   "execution_count": null,
   "metadata": {},
   "outputs": [],
   "source": [
    "\n",
    "u_exact = 'y + (x*(1-x) + y*(1-y)*0.25) '\n",
    "P(rhs='2.5', g='y + (x*(1-x) + y*(1-y)*0.25)', solver ='scimba', u_exact = u_exact)\n"
   ]
  },
  {
   "cell_type": "code",
   "execution_count": null,
   "metadata": {},
   "outputs": [],
   "source": [
    "\n",
    "\n",
    "# with varying anisotropy\n",
    "\n",
    "u_exact = 'x*x/(1+x) + y*y/(1+y)'\n",
    "rhs = '-(4 + 2*x + 2*y) / ((1+x)*(1+y))'\n",
    "P(rhs=rhs, diff='{1+x,0,0,1+y}', g='x*x/(1+x) + y*y/(1+y)', solver='scimba', u_exact = u_exact)\n"
   ]
  },
  {
   "cell_type": "code",
   "execution_count": null,
   "metadata": {},
   "outputs": [],
   "source": [
    "\n",
    "u_exact = 'x*x + y*y'\n",
    "grad_u_exact = '{2.0*x, 2.0*y}'\n",
    "P(rhs='-4.0*x -4.0*y', diff='{x,y,-y,x+y}', g='x*x + y*y', solver = 'scimba' ,u_exact = u_exact, grad_u_exact= grad_u_exact)\n"
   ]
  },
  {
   "cell_type": "code",
   "execution_count": null,
   "metadata": {},
   "outputs": [],
   "source": [
    "# for disk domain\n",
    "\n",
    "u_exact = 'sin(pi*(x*x + y*y))'\n",
    "rhs = '-4*pi*cos(pi*(x*x + y*y)) + 4*pi*pi*(x*x + y*y)*sin(pi*(x*x + y*y))'\n",
    "\n",
    "P(rhs=rhs, g='0', shape='Disk', solver='scimba', u_exact=u_exact)\n"
   ]
  },
  {
   "cell_type": "code",
   "execution_count": null,
   "metadata": {},
   "outputs": [],
   "source": [
    "u_exact =  '(1 - x*x - y*y)'\n",
    "\n",
    "P(rhs='4', g= '0', shape= 'Disk', solver='scimba', u_exact = u_exact)"
   ]
  },
  {
   "cell_type": "markdown",
   "metadata": {},
   "source": [
    "### Computing errors"
   ]
  },
  {
   "cell_type": "code",
   "execution_count": null,
   "metadata": {},
   "outputs": [],
   "source": [
    "# Collect data to compute errors\n",
    "u_exact = 'sin(2*pi*x) * sin(2*pi*y)'\n",
    "grad_u_exact = '{2*pi*cos(2*pi*x) * sin(2*pi*y), 2*pi*sin(2*pi*x) * cos(2*pi*y)}'\n",
    "rhs = '8*pi*pi*sin(2*pi*x) * sin(2*pi*y)'\n",
    "\n",
    "h= [0.1, 0.05, 0.025, 0.0125, 0.00625]\n",
    "measures = []\n",
    "\n",
    "for i in h:\n",
    "  P(h=i, rhs=rhs, g='0', plot = None, u_exact = u_exact, grad_u_exact = grad_u_exact)\n",
    "  measures.append(P.measures)\n",
    "  print(\"this is the measures = \", measures)\n"
   ]
  },
  {
   "cell_type": "code",
   "execution_count": null,
   "metadata": {},
   "outputs": [],
   "source": [
    "# Plotting the error convergence rates\n",
    "poisson_json = P.model\n",
    "df= runConvergenceAnalysis( P, json=poisson_json, measures=measures, dim=2, hs= h,verbose=True)\n",
    "#print('measures = ', measures)\n",
    "fig= plot_convergence(P, df,dim=2)\n",
    "fig.show()"
   ]
  },
  {
   "cell_type": "code",
   "execution_count": null,
   "metadata": {},
   "outputs": [],
   "source": [
    "# Collect data to compute errors\n",
    "u_exact = 'y + (x*(1-x) + y*(1-y)*0.25) '\n",
    "grad_u_exact = '{1-2*x, 1.25 - 0.5*y}'\n",
    "rhs='2.5'\n",
    "g='y'\n",
    "\n",
    "\n",
    "h= [0.1, 0.05, 0.025, 0.0125, 0.00625]\n",
    "measures = []\n",
    "\n",
    "for i in h:\n",
    "  P(h=i, rhs=rhs, g=u_exact, plot=None , u_exact = u_exact, grad_u_exact=grad_u_exact)\n",
    "  measures.append(P.measures)\n",
    "\n",
    "print(measures)\n",
    "\n",
    "# Plotting the error convergence rates\n",
    "\n",
    "poisson_json = P.model\n",
    "df= runConvergenceAnalysis( P, json=poisson_json, measures=measures, dim=2, hs= h,verbose=True)\n",
    "print('measures = ', measures)\n",
    "fig= plot_convergence(P, df,dim=2)\n",
    "fig.show()"
   ]
  },
  {
   "cell_type": "code",
   "execution_count": null,
   "metadata": {},
   "outputs": [],
   "source": [
    "# Collect data to compute errors\n",
    "\n",
    "u_exact =  'sin(pi*(x*x + y*y))'\n",
    "grad_u_exact = '{2*pi*x*cos(pi*(x*x + y*y)), 2*pi*y*cos(pi*(x*x + y*y))}'\n",
    "rhs = '4*pi*pi*(x*x + y*y)*sin(pi*(x*x + y*y)) - 4*pi*cos(pi*(x*x + y*y))'\n",
    "\n",
    "h= [0.1, 0.05, 0.025, 0.0125, 0.00625]\n",
    "measures = []\n",
    "for i in h:\n",
    "  P(h=i, rhs=rhs, g='0', plot=None , shape= 'Disk', u_exact = u_exact, grad_u_exact = grad_u_exact)\n",
    "  measures.append(P.measures)\n",
    "\n",
    "print('measures = ', measures)\n",
    "\n",
    "# Plotting the error convergence rates\n",
    "poisson_json = P.model\n",
    "df= runConvergenceAnalysis( P, json=poisson_json, measures=measures, dim=2, hs= h, verbose=True)\n",
    "fig= plot_convergence(P, df,dim=2)\n",
    "fig.show()"
   ]
  },
  {
   "cell_type": "code",
   "execution_count": null,
   "metadata": {},
   "outputs": [],
   "source": [
    "# Collect data to compute errors\n",
    "u_exact =  '(1 - (x*x + y*y))'\n",
    "grad_u_exact = '{-2*x, -2*y}'\n",
    "rhs = '4'\n",
    "g='0'\n",
    "\n",
    "h= [0.1, 0.05, 0.025, 0.0125, 0.00625]\n",
    "measures = []\n",
    "\n",
    "for i in h:\n",
    "  P(h=i, rhs=rhs, g=u_exact, plot=None , shape= 'Disk', u_exact = u_exact, grad_u_exact=grad_u_exact)\n",
    "  measures.append(P.measures)\n",
    "\n",
    "print(measures)\n",
    "\n",
    "# Plotting the error convergence rates\n",
    "poisson_json = P.model\n",
    "df= runConvergenceAnalysis( P, json=poisson_json, measures=measures, dim=2, hs= h,verbose=True)\n",
    "print('measures = ', measures)\n",
    "fig= plot_convergence(P, df,dim=2)\n",
    "fig.show()\n"
   ]
  },
  {
   "cell_type": "code",
   "execution_count": null,
   "metadata": {},
   "outputs": [],
   "source": []
  }
 ],
 "metadata": {
  "kernelspec": {
   "display_name": ".venv",
   "language": "python",
   "name": "python3"
  },
  "language_info": {
   "codemirror_mode": {
    "name": "ipython",
    "version": 3
   },
   "file_extension": ".py",
   "mimetype": "text/x-python",
   "name": "python",
   "nbconvert_exporter": "python",
   "pygments_lexer": "ipython3",
   "version": "3.10.12"
  }
 },
 "nbformat": 4,
 "nbformat_minor": 2
}
