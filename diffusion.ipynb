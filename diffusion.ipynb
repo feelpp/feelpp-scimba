{
 "cells": [
  {
   "cell_type": "code",
   "execution_count": null,
   "id": "39c18707",
   "metadata": {
    "vscode": {
     "languageId": "plaintext"
    }
   },
   "outputs": [],
   "source": [
    "import sys\n",
    "import feelpp.core as fppc\n",
    "import feelpp.toolboxes.core as tb\n",
    "\n",
    "\n",
    "from tools.Diffusion_param import ParametricDiffusion\n",
    "\n",
    "\n",
    "sys.argv = [\"feelpp_app\"]\n",
    "e = fppc.Environment(sys.argv,\n",
    "                        opts=tb.toolboxes_options(\"coefficient-form-pdes\", \"cfpdes\"),\n",
    "                        config=fppc.localRepository('feelpp_cfpde'))\n",
    "\n",
    "# ------------------------------------------------------------------------- #\n",
    "# Parametric Diffusion problem\n",
    "# - div (diff(mu) * grad (u)) = f(mu)   in Omega\n",
    "#                                 u     = g(mu)   in Gamma_D \n",
    "# Omega = domain (e.g., square, disk)\n",
    "# Approx = lagrange Pk of order order\n",
    "# mesh of size h\n",
    "\n",
    "# Utilisation de la classe ParametricDiffusion\n",
    "P_diff = ParametricDiffusion(dim = 2)\n",
    "\n"
   ]
  },
  {
   "cell_type": "code",
   "execution_count": null,
   "id": "3f5eabd5",
   "metadata": {
    "vscode": {
     "languageId": "plaintext"
    }
   },
   "outputs": [],
   "source": [
    "rhs_expr = '2*x*(1 - x) + 2*y*(1 - y)'\n",
    "# Conditions limites de Dirichlet (nulles pour cette solution exacte)\n",
    "g_expr = '0'\n",
    "# Solution exacte\n",
    "u_exact_expr = 'x*(1 - x)*y*(1 - y)'\n",
    "\n",
    "# Différentes valeurs de mu à tester\n",
    "mu_values = [0.1, 0.5, 1.0, 2.0]\n",
    "\n",
    "for mu in mu_values:\n",
    "    print(f\"Résolution pour mu = {mu}\")\n",
    "    P_diff(h=0.05,\n",
    "           mu=mu,\n",
    "           rhs=rhs_expr,\n",
    "           g=g_expr,\n",
    "           diff='{{{mu},0,0,{mu}}}', # Coefficient de diffusion dépendant de mu (CORRECTION: trois accolades)\n",
    "           plot=1,\n",
    "           u_exact=u_exact_expr)\n",
    "    print(f\"Simulation de diffusion paramétrique terminée pour mu = {mu}\")\n",
    "\n",
    "print(\"Terminé les simulations de diffusion paramétrique pour toutes les valeurs de mu.\")"
   ]
  }
 ],
 "metadata": {
  "language_info": {
   "name": "python"
  }
 },
 "nbformat": 4,
 "nbformat_minor": 5
}
